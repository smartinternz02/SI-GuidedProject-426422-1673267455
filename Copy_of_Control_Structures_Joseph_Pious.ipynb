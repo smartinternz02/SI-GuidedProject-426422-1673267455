{
  "nbformat": 4,
  "nbformat_minor": 0,
  "metadata": {
    "colab": {
      "provenance": []
    },
    "kernelspec": {
      "name": "python3",
      "display_name": "Python 3"
    },
    "language_info": {
      "name": "python"
    }
  },
  "cells": [
    {
      "cell_type": "markdown",
      "source": [
        "### **Python Decision Making**"
      ],
      "metadata": {
        "id": "cbUBRQamnaUr"
      }
    },
    {
      "cell_type": "markdown",
      "source": [
        "**if statements**"
      ],
      "metadata": {
        "id": "k-XQpToXndoo"
      }
    },
    {
      "cell_type": "code",
      "execution_count": null,
      "metadata": {
        "colab": {
          "base_uri": "https://localhost:8080/"
        },
        "id": "XTRO1-IonRQR",
        "outputId": "c2189370-bfb8-4db7-a795-441db19a3595"
      },
      "outputs": [
        {
          "output_type": "stream",
          "name": "stdout",
          "text": [
            "Number is not positive\n"
          ]
        }
      ],
      "source": [
        "num=10\n",
        "if num>-4:\n",
        "    print(\"Number is not positive\")"
      ]
    },
    {
      "cell_type": "markdown",
      "source": [
        "**if...else statements**"
      ],
      "metadata": {
        "id": "qkylTRNHoQxn"
      }
    },
    {
      "cell_type": "code",
      "source": [
        "num=10\n",
        "if num>22 :\n",
        "    print('Number is greater than 22')\n",
        "else:\n",
        "    print('Number is less than 22')"
      ],
      "metadata": {
        "colab": {
          "base_uri": "https://localhost:8080/"
        },
        "id": "GjbKcbBqn32R",
        "outputId": "a4c62964-f99a-4599-c41d-9f33954c2bc8"
      },
      "execution_count": null,
      "outputs": [
        {
          "output_type": "stream",
          "name": "stdout",
          "text": [
            "Number is less than 22\n"
          ]
        }
      ]
    },
    {
      "cell_type": "markdown",
      "source": [
        "**if...elif...else Statement**"
      ],
      "metadata": {
        "id": "1xdBRvCao7DL"
      }
    },
    {
      "cell_type": "code",
      "source": [
        "num=19\n",
        "if num>10:\n",
        "    print(\"Positive number\")\n",
        "elif num==0:\n",
        "    print('Zero')\n",
        "else:\n",
        "    print('Negative number')"
      ],
      "metadata": {
        "colab": {
          "base_uri": "https://localhost:8080/"
        },
        "id": "uMqWNqTvo9Be",
        "outputId": "815b1ff5-ac6c-49d9-9820-6176ca5038db"
      },
      "execution_count": null,
      "outputs": [
        {
          "output_type": "stream",
          "name": "stdout",
          "text": [
            "Positive number\n"
          ]
        }
      ]
    },
    {
      "cell_type": "markdown",
      "source": [
        "**nested if statements**"
      ],
      "metadata": {
        "id": "7KEwjMHOoZK7"
      }
    },
    {
      "cell_type": "code",
      "source": [
        "num=-10\n",
        "if num>=0:\n",
        "    if num==0:\n",
        "      print('Number is 0')\n",
        "    else:\n",
        "        print('Number is not negative')\n",
        "else:\n",
        "    print('Number is not positive')"
      ],
      "metadata": {
        "colab": {
          "base_uri": "https://localhost:8080/"
        },
        "id": "1Hy4D__Noarh",
        "outputId": "5510cd06-b82b-48c2-f71e-2688aadc38eb"
      },
      "execution_count": null,
      "outputs": [
        {
          "output_type": "stream",
          "name": "stdout",
          "text": [
            "Number is not positive\n"
          ]
        }
      ]
    },
    {
      "cell_type": "markdown",
      "source": [
        "### **Python Loops**"
      ],
      "metadata": {
        "id": "Br_tbdXFqQox"
      }
    },
    {
      "cell_type": "markdown",
      "source": [
        "**while loop**"
      ],
      "metadata": {
        "id": "WbYVc3kSqwDV"
      }
    },
    {
      "cell_type": "code",
      "source": [
        "i=1\n",
        "print('ODD NUMBERS TILL LIMIT')\n",
        "while i<=14:\n",
        "  print(i)\n",
        "  i=i+2"
      ],
      "metadata": {
        "colab": {
          "base_uri": "https://localhost:8080/"
        },
        "id": "sWacyIzSqx3-",
        "outputId": "81e7b3a3-e552-4ccb-8c1e-52a0b98f487d"
      },
      "execution_count": null,
      "outputs": [
        {
          "output_type": "stream",
          "name": "stdout",
          "text": [
            "ODD NUMBERS TILL LIMIT\n",
            "1\n",
            "3\n",
            "5\n",
            "7\n",
            "9\n",
            "11\n",
            "13\n"
          ]
        }
      ]
    },
    {
      "cell_type": "markdown",
      "source": [
        "**for loop**"
      ],
      "metadata": {
        "id": "5GBjfehfqdwq"
      }
    },
    {
      "cell_type": "code",
      "source": [
        "dice= [5,2,6,3,4]\n",
        "for x in dice:\n",
        "  print(x)"
      ],
      "metadata": {
        "colab": {
          "base_uri": "https://localhost:8080/"
        },
        "id": "u0GKqewepclN",
        "outputId": "d9c34d18-99ec-4e16-a0f1-cb6c26c61443"
      },
      "execution_count": null,
      "outputs": [
        {
          "output_type": "stream",
          "name": "stdout",
          "text": [
            "5\n",
            "2\n",
            "6\n",
            "3\n",
            "4\n"
          ]
        }
      ]
    },
    {
      "cell_type": "markdown",
      "source": [
        "**nested loops**"
      ],
      "metadata": {
        "id": "jrPIVun0rGsA"
      }
    },
    {
      "cell_type": "code",
      "source": [
        "players=[\"Messi\",\"Ronaldo\",\"Neymar\"]\n",
        "fruits=[\"carrot\",\"coconut\",\"chakka\"]\n",
        "for x in players:\n",
        "  for y in fruits:\n",
        "    print(x,y)"
      ],
      "metadata": {
        "colab": {
          "base_uri": "https://localhost:8080/"
        },
        "id": "Mt-xnK62qrDH",
        "outputId": "0af8b573-b832-4eae-b19f-5a834ca39331"
      },
      "execution_count": null,
      "outputs": [
        {
          "output_type": "stream",
          "name": "stdout",
          "text": [
            "Messi carrot\n",
            "Messi coconut\n",
            "Messi chakka\n",
            "Ronaldo carrot\n",
            "Ronaldo coconut\n",
            "Ronaldo chakka\n",
            "Neymar carrot\n",
            "Neymar coconut\n",
            "Neymar chakka\n"
          ]
        }
      ]
    },
    {
      "cell_type": "markdown",
      "source": [
        "### **Loop Control Statements**"
      ],
      "metadata": {
        "id": "Dl0VsVp4r9V1"
      }
    },
    {
      "cell_type": "markdown",
      "source": [
        "**Break Statement**"
      ],
      "metadata": {
        "id": "suivsqUfstK8"
      }
    },
    {
      "cell_type": "code",
      "source": [
        "for letter in \"textbook\":\n",
        "    if letter=='b':\n",
        "        break\n",
        "print(\"Current Letter:\",letter)"
      ],
      "metadata": {
        "colab": {
          "base_uri": "https://localhost:8080/"
        },
        "id": "ag-0aXf7rpJA",
        "outputId": "bdea0b9d-2d3e-4c34-f2d8-b6a568d58456"
      },
      "execution_count": null,
      "outputs": [
        {
          "output_type": "stream",
          "name": "stdout",
          "text": [
            "Current Letter: b\n"
          ]
        }
      ]
    },
    {
      "cell_type": "markdown",
      "source": [
        "**Continue Statement**"
      ],
      "metadata": {
        "id": "aB5V5bMJtjPY"
      }
    },
    {
      "cell_type": "code",
      "source": [
        "for letter in \"Traffic Block\":\n",
        "    if letter == 'f' or letter == 'c':\n",
        "        continue\n",
        "    print (\"Current Letter :\", letter)"
      ],
      "metadata": {
        "colab": {
          "base_uri": "https://localhost:8080/"
        },
        "id": "ARqSsRs9tOD0",
        "outputId": "9413420b-3a20-49c3-ae54-a4abeeb718df"
      },
      "execution_count": null,
      "outputs": [
        {
          "output_type": "stream",
          "name": "stdout",
          "text": [
            "Current Letter : T\n",
            "Current Letter : r\n",
            "Current Letter : a\n",
            "Current Letter : i\n",
            "Current Letter :  \n",
            "Current Letter : B\n",
            "Current Letter : l\n",
            "Current Letter : o\n",
            "Current Letter : k\n"
          ]
        }
      ]
    },
    {
      "cell_type": "markdown",
      "source": [
        "**Pass Statement**"
      ],
      "metadata": {
        "id": "GsO3Qcdsu1Ly"
      }
    },
    {
      "cell_type": "code",
      "source": [
        "for letter in 'monitor':\n",
        "    pass\n",
        "print(\"Last Letter :\",letter)"
      ],
      "metadata": {
        "colab": {
          "base_uri": "https://localhost:8080/"
        },
        "id": "g4mbzbKUtteF",
        "outputId": "6e5f2cc1-d51f-44a0-94b2-773d36986e2f"
      },
      "execution_count": null,
      "outputs": [
        {
          "output_type": "stream",
          "name": "stdout",
          "text": [
            "Last Letter : r\n"
          ]
        }
      ]
    }
  ]
}